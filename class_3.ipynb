{
  "nbformat": 4,
  "nbformat_minor": 0,
  "metadata": {
    "colab": {
      "provenance": [],
      "authorship_tag": "ABX9TyMiFrRG0BGP5svMC2d7RNdv",
      "include_colab_link": true
    },
    "kernelspec": {
      "name": "python3",
      "display_name": "Python 3"
    },
    "language_info": {
      "name": "python"
    }
  },
  "cells": [
    {
      "cell_type": "markdown",
      "metadata": {
        "id": "view-in-github",
        "colab_type": "text"
      },
      "source": [
        "<a href=\"https://colab.research.google.com/github/Babaralihyd/Assignment-03_python-/blob/main/class_3.ipynb\" target=\"_parent\"><img src=\"https://colab.research.google.com/assets/colab-badge.svg\" alt=\"Open In Colab\"/></a>"
      ]
    },
    {
      "cell_type": "markdown",
      "source": [
        "Python Assignment List Tuples and methods"
      ],
      "metadata": {
        "id": "BBJe5SNx9qvF"
      }
    },
    {
      "cell_type": "markdown",
      "source": [
        "Basic List Operations"
      ],
      "metadata": {
        "id": "ak5LaNAX-ZOk"
      }
    },
    {
      "cell_type": "code",
      "execution_count": null,
      "metadata": {
        "id": "-2t04F-iusIx",
        "colab": {
          "base_uri": "https://localhost:8080/"
        },
        "outputId": "f910528d-24d9-43a0-923f-81b45c017b25"
      },
      "outputs": [
        {
          "output_type": "stream",
          "name": "stdout",
          "text": [
            "[71, 22, 43, 84, 45, 60]\n"
          ]
        }
      ],
      "source": [
        "\n",
        "#1.Create a list of five numbers and append a new number to it. Print the updated list.\n",
        "\n",
        "Num = [71 ,22,43,84,45]\n",
        "Num.append(60)\n",
        "print(Num)\n"
      ]
    },
    {
      "cell_type": "code",
      "source": [
        "#2. Extend a list [1, 2, 3] with another list [4, 5, 6]. Print the result.\n",
        "\n",
        "List1 = [1,2,3,]\n",
        "List2 = [4,5,6]\n",
        "\n",
        "List1.extend(List2)\n",
        "print(List1)\n",
        "\n",
        "\n"
      ],
      "metadata": {
        "colab": {
          "base_uri": "https://localhost:8080/"
        },
        "id": "e0mIfNQ7-jTa",
        "outputId": "f10336d6-a6ed-413c-8822-86a155a39156"
      },
      "execution_count": null,
      "outputs": [
        {
          "output_type": "stream",
          "name": "stdout",
          "text": [
            "[1, 2, 3, 4, 5, 6]\n"
          ]
        }
      ]
    },
    {
      "cell_type": "code",
      "source": [
        "# 3. Insert the string \"Python\" at index 2 in the list [\"Java\", \"C++\", \"JavaScript\",\n",
        "# \"Ruby\"].\n",
        "\n",
        "\n",
        "string = [\"Java\", \"C++\", \"JavaScript\", \"Ruby\"]\n",
        "string.insert(2,\"python\")\n",
        "print(string)\n"
      ],
      "metadata": {
        "colab": {
          "base_uri": "https://localhost:8080/"
        },
        "id": "uQ_zmzUqBfUl",
        "outputId": "85917d5c-d1f6-4db4-cfe1-b81571ad98cc"
      },
      "execution_count": null,
      "outputs": [
        {
          "output_type": "stream",
          "name": "stdout",
          "text": [
            "['Java', 'C++', 'python', 'JavaScript', 'Ruby']\n"
          ]
        }
      ]
    },
    {
      "cell_type": "code",
      "source": [
        "# 4. Remove the first occurrence of the number 10 from the list [10, 20, 30, 10, 40].\n",
        "\n",
        "\n",
        "numbers = [10 ,20 , 30, 10, 40]\n",
        "numbers.remove(10)\n",
        "print(numbers)\n",
        "\n",
        "\n"
      ],
      "metadata": {
        "colab": {
          "base_uri": "https://localhost:8080/"
        },
        "id": "CAjBnHgFDCwX",
        "outputId": "edb31670-ac3b-495a-acfb-3e37c831e893"
      },
      "execution_count": null,
      "outputs": [
        {
          "output_type": "stream",
          "name": "stdout",
          "text": [
            "[20, 30, 10, 40]\n"
          ]
        }
      ]
    },
    {
      "cell_type": "code",
      "source": [
        "# 5. Use the pop() method to remove the last element from [100, 200, 300, 400] and\n",
        "# print the modified list.\n",
        "\n",
        "\n",
        "numbers = [100, 200, 300, 400]\n",
        "numbers.pop()\n",
        "print(numbers)\n",
        "\n",
        "\n",
        "\n"
      ],
      "metadata": {
        "colab": {
          "base_uri": "https://localhost:8080/"
        },
        "id": "CiG7S_vzD9SH",
        "outputId": "280eae2c-34b9-4836-d5ef-b233ea5091f7"
      },
      "execution_count": null,
      "outputs": [
        {
          "output_type": "stream",
          "name": "stdout",
          "text": [
            "[100, 200, 300]\n"
          ]
        }
      ]
    },
    {
      "cell_type": "markdown",
      "source": [
        "Intermediate List Operations"
      ],
      "metadata": {
        "id": "hHSusTw4Ewc0"
      }
    },
    {
      "cell_type": "code",
      "source": [
        "#6.  Count how many times the number 5 appears in the list [5, 10, 5, 20, 5, 30].\n",
        "\n",
        "numbers = [5, 10, 5, 20, 5, 30]\n",
        "print(numbers.count(5))\n",
        "\n",
        "\n"
      ],
      "metadata": {
        "colab": {
          "base_uri": "https://localhost:8080/"
        },
        "id": "XLolPnRTEnTN",
        "outputId": "1edb9887-38db-49d6-bf94-f8ffe3c6a66b"
      },
      "execution_count": null,
      "outputs": [
        {
          "output_type": "stream",
          "name": "stdout",
          "text": [
            "3\n"
          ]
        }
      ]
    },
    {
      "cell_type": "code",
      "source": [
        "#7. Sort the list [9, 1, 8, 3, 5] in ascending and descending order.\n",
        "\n",
        "\n",
        "list = [9, 1, 8, 3, 5]\n",
        "list.sort()\n",
        "print(\"Ascending order\" ,list)\n",
        "list.sort(reverse=True)\n",
        "print(\" Descending order\" ,list)\n",
        "\n",
        "\n",
        "\n",
        "\n",
        "\n"
      ],
      "metadata": {
        "colab": {
          "base_uri": "https://localhost:8080/"
        },
        "id": "mcSyhMEWGseB",
        "outputId": "a2bd1fef-022e-49dc-962d-73d7552825c6"
      },
      "execution_count": null,
      "outputs": [
        {
          "output_type": "stream",
          "name": "stdout",
          "text": [
            "Ascending order [1, 3, 5, 8, 9]\n",
            " Descending order [9, 8, 5, 3, 1]\n"
          ]
        }
      ]
    },
    {
      "cell_type": "code",
      "source": [
        "# 8. Reverse the list [“apple”, “banana”, “cherry”] using the reverse() method.\n",
        "\n",
        "\n",
        "fruits = [\"apple\", \"banana\", \"cherry\"]\n",
        "fruits.reverse()\n",
        "print(fruits)"
      ],
      "metadata": {
        "colab": {
          "base_uri": "https://localhost:8080/"
        },
        "id": "oV4kaWBdIg3v",
        "outputId": "ac483202-aa61-49f3-87ee-e5b1dbebb0b0"
      },
      "execution_count": null,
      "outputs": [
        {
          "output_type": "stream",
          "name": "stdout",
          "text": [
            "['cherry', 'banana', 'apple']\n"
          ]
        }
      ]
    },
    {
      "cell_type": "code",
      "source": [
        "# 9. Create a copy of the list [1, 2, 3, 4, 5] and store it in another variable. Modify the\n",
        "# copied list and print both lists.\n",
        "\n",
        "list = [1,2,3,4,5,]\n",
        "list1 = list.copy()\n",
        "list1.append(6)\n",
        "print(\"Original:\", list)\n",
        "print(\"Copied:\", list1 )\n",
        "\n"
      ],
      "metadata": {
        "colab": {
          "base_uri": "https://localhost:8080/"
        },
        "id": "tF8jGP0gJUT3",
        "outputId": "21ddf9d9-7197-4c79-b721-f0d7e92a28cb"
      },
      "execution_count": null,
      "outputs": [
        {
          "output_type": "stream",
          "name": "stdout",
          "text": [
            "Original: [1, 2, 3, 4, 5]\n",
            "Copied: [1, 2, 3, 4, 5, 6]\n"
          ]
        }
      ]
    },
    {
      "cell_type": "code",
      "source": [
        "# 10. Clear all elements from a list [“hello”, “world”, “python”] using the clear()\n",
        "# method.\n",
        "\n",
        "\n",
        "list = [\"hello\", \"world\", \"python\"]\n",
        "list.clear()\n",
        "print(list)\n"
      ],
      "metadata": {
        "colab": {
          "base_uri": "https://localhost:8080/"
        },
        "id": "7JnylxmfLr-7",
        "outputId": "4e585b00-95ae-432d-85ff-b94c17a09cd1"
      },
      "execution_count": null,
      "outputs": [
        {
          "output_type": "stream",
          "name": "stdout",
          "text": [
            "[]\n"
          ]
        }
      ]
    },
    {
      "cell_type": "markdown",
      "source": [
        "Tuple-Based Questions"
      ],
      "metadata": {
        "id": "Ldm3neJiMWX_"
      }
    },
    {
      "cell_type": "code",
      "source": [
        "#11. Create a tuple with 5 different fruits and print the third fruit.\n",
        "\n",
        "fruits = (\"apple\", \"banana\", \"cherry\", \"date\", \"elderberry\")\n",
        "print(fruits[2])  # Index starts from 0\n",
        "\n",
        "\n",
        "\n",
        "\n",
        "\n",
        "\n"
      ],
      "metadata": {
        "id": "UWPum803MV4e"
      },
      "execution_count": null,
      "outputs": []
    },
    {
      "cell_type": "code",
      "source": [
        "# 12. Convert the tuple (10, 20, 30, 40, 50) into a list, remove the number 30, and convert\n",
        "# it back into a tuple.\n",
        "\n",
        "# Given tuple\n",
        "my_tuple = (10, 20, 30, 40, 50)\n",
        "\n",
        "# Step 1: Tuple ko List mein convert karna\n",
        "my_list = list(my_tuple)\n",
        "\n",
        "# Step 2: List mein se number 30 ko remove karna\n",
        "my_list.remove(30)\n",
        "\n",
        "# Step 3: List ko Tuple mein convert karna\n",
        "update_tuple= tuple(my_list)\n",
        "\n",
        "# Result print karna\n",
        "print(update_tuple)\n"
      ],
      "metadata": {
        "id": "3dRqRMnMq3Cx"
      },
      "execution_count": null,
      "outputs": []
    },
    {
      "cell_type": "code",
      "source": [
        "# 13. Try to append an element to the tuple (“A”, “B”, “C”). What happens? How can you\n",
        "# modify a tuple indirectly?\n",
        "\n",
        "# Original tuple\n",
        "my_tuple = (\"A\", \"B\", \"C\")\n",
        "\n",
        "# Step 1: Tuple ko List mein convert karna\n",
        "my_list = list(my_tuple)\n",
        "\n",
        "# Step 2: List mein element append karna\n",
        "my_list.append(\"D\")\n",
        "\n",
        "# Step 3: List ko Tuple mein convert karna\n",
        "my_tuple_modified = tuple(my_list)\n",
        "\n",
        "# Result print karna\n",
        "print(my_tuple_modified)\n",
        "\n",
        "\n"
      ],
      "metadata": {
        "id": "h55k7luLyM6k"
      },
      "execution_count": null,
      "outputs": []
    },
    {
      "cell_type": "code",
      "source": [
        "# 14. Unpack the tuple (100, 200, 300) into three separate variables and print them.\n",
        "\n",
        "# Tuple\n",
        "my_tuple = (100, 200, 300)\n",
        "\n",
        "# Unpacking the tuple\n",
        "a, b, c = my_tuple\n",
        "\n",
        "# Printing the variables\n",
        "print(a)\n",
        "print(b)\n",
        "print(c)\n",
        "\n",
        "\n"
      ],
      "metadata": {
        "id": "9nJ8V_zaz6Wy",
        "colab": {
          "base_uri": "https://localhost:8080/"
        },
        "outputId": "b6e7d1ae-ea23-416b-a049-8e24b7ae7f63"
      },
      "execution_count": null,
      "outputs": [
        {
          "output_type": "stream",
          "name": "stdout",
          "text": [
            "100\n",
            "200\n",
            "300\n"
          ]
        }
      ]
    },
    {
      "cell_type": "code",
      "source": [
        "# 15. Count the occurrences of 7 in the tuple (7, 1, 7, 3, 7, 5).\n",
        "\n",
        "\n",
        "my_tuple = (7, 1, 7, 3, 7, 5)\n",
        "count_sevens = my_tuple.count(7)\n",
        "\n",
        "print(count_sevens)\n",
        "\n"
      ],
      "metadata": {
        "id": "O-cRdfTWz-4f",
        "colab": {
          "base_uri": "https://localhost:8080/"
        },
        "outputId": "0a82afa6-ab07-4ef2-a4c8-1683fd1c09f9"
      },
      "execution_count": null,
      "outputs": [
        {
          "output_type": "stream",
          "name": "stdout",
          "text": [
            "3\n"
          ]
        }
      ]
    },
    {
      "cell_type": "markdown",
      "source": [
        "Advanced Problems"
      ],
      "metadata": {
        "id": "xZuyYey3THL4"
      }
    },
    {
      "cell_type": "code",
      "source": [
        "# 16. Write a function that takes a list and returns a new list with all even numbers removed.\n",
        "\n",
        "\n",
        "def remove_even_numbers(input_list):\n",
        "    # Using list comprehension to filter out even numbers\n",
        "    return [num for num in input_list if num % 2 != 0]\n",
        "\n",
        "numbers = [1, 2, 3, 4, 5, 6]\n",
        "print(remove_even_numbers(numbers))\n",
        "\n"
      ],
      "metadata": {
        "id": "8Z_zda-00EQn",
        "colab": {
          "base_uri": "https://localhost:8080/"
        },
        "outputId": "8d12cac9-4fe5-4d4d-e63b-81d4f9478ae3"
      },
      "execution_count": null,
      "outputs": [
        {
          "output_type": "stream",
          "name": "stdout",
          "text": [
            "[1, 3, 5]\n"
          ]
        }
      ]
    },
    {
      "cell_type": "code",
      "source": [
        "# 17. Create a function that accepts a list and returns a new list with elements sorted in descending order\n",
        "# without using the sort() method.\n",
        "\n",
        "def sort_descending(lst):\n",
        "    return sorted(lst, reverse=True)\n",
        "\n",
        "numbers = [5, 4, 6, 3, 9]\n",
        "sorted_list = sort_descending(numbers)\n",
        "print(sorted_list)\n",
        "\n"
      ],
      "metadata": {
        "id": "8kWWEx35WGOG",
        "colab": {
          "base_uri": "https://localhost:8080/"
        },
        "outputId": "012adc1a-739e-4e57-bed1-6ed0be5047b5"
      },
      "execution_count": null,
      "outputs": [
        {
          "output_type": "stream",
          "name": "stdout",
          "text": [
            "[9, 6, 5, 4, 3]\n"
          ]
        }
      ]
    },
    {
      "cell_type": "code",
      "source": [
        "#18. Given a list of numbers, write a program to remove all duplicate elements and print the\n",
        "# unique elements.\n",
        "\n",
        "\n",
        "numbers = [1, 2, 2, 3, 4, 4, 5,5,9]\n",
        "unique_elements  = list(set(numbers))\n",
        "print(unique_elements)\n"
      ],
      "metadata": {
        "colab": {
          "base_uri": "https://localhost:8080/"
        },
        "id": "Svi1LMUYUYlr",
        "outputId": "85fb4750-c87c-4828-eb72-8e9975fac61a"
      },
      "execution_count": null,
      "outputs": [
        {
          "output_type": "stream",
          "name": "stdout",
          "text": [
            "[1, 2, 3, 4, 5, 9]\n"
          ]
        }
      ]
    },
    {
      "cell_type": "code",
      "source": [
        "# 19. Given a tuple of names (“Alice”, “Bob”, “Charlie”, “Alice”, “David”), convert\n",
        "# it into a list, remove duplicates, and convert it back to a tuple\n",
        "\n",
        "names = (\"Alice\", \"Bob\", \"Charlie\", \"Alice\", \"David\")\n",
        "name_list = list(names)\n",
        "name_list = list(set(name_list))\n",
        "names = tuple(name_list)\n",
        "print(names)\n",
        "\n",
        "\n",
        "\n",
        "\n"
      ],
      "metadata": {
        "colab": {
          "base_uri": "https://localhost:8080/"
        },
        "id": "yU4fzNK5UhIj",
        "outputId": "caa3b83d-0e44-4fef-fff6-e3bb86edfc66"
      },
      "execution_count": null,
      "outputs": [
        {
          "output_type": "stream",
          "name": "stdout",
          "text": [
            "('Alice', 'Charlie', 'David', 'Bob')\n"
          ]
        }
      ]
    },
    {
      "cell_type": "code",
      "source": [
        "# 20. Create a program that takes a list of mixed data types (int, str, float)\n",
        "#  and separates integers into one list, strings into another, and floats into another.\n",
        "\n",
        "\n",
        "mixed_data = [1, \"hello\", 3.14, 2, \"world\", 7.5, \"Python\", \"Last Question\", 55.7 ,46,78,43.6]\n",
        "\n",
        "\n",
        "integers = [item for item in mixed_data if isinstance(item, int)]\n",
        "strings = [item for item in mixed_data if isinstance(item, str)]\n",
        "floats = [item for item in mixed_data if isinstance(item, float)]\n",
        "\n",
        "print(\"Integers:\", integers)\n",
        "print(\"Strings:\", strings)\n",
        "print(\"Floats:\", floats)"
      ],
      "metadata": {
        "colab": {
          "base_uri": "https://localhost:8080/"
        },
        "id": "5ZHcSdvydls2",
        "outputId": "ac58ce8f-631e-427a-fea8-68b11e91b81c"
      },
      "execution_count": null,
      "outputs": [
        {
          "output_type": "stream",
          "name": "stdout",
          "text": [
            "Integers: [1, 2, 46, 78]\n",
            "Strings: ['hello', 'world', 'Python', 'Last Question']\n",
            "Floats: [3.14, 7.5, 55.7, 43.6]\n"
          ]
        }
      ]
    }
  ]
}